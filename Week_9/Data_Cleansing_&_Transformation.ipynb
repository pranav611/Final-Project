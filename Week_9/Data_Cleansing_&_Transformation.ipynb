{
  "nbformat": 4,
  "nbformat_minor": 0,
  "metadata": {
    "colab": {
      "name": "Data_Cleansing_&_Transformation.ipynb",
      "provenance": [],
      "collapsed_sections": [],
      "machine_shape": "hm"
    },
    "kernelspec": {
      "name": "python3",
      "display_name": "Python 3"
    },
    "language_info": {
      "name": "python"
    },
    "gpuClass": "standard"
  },
  "cells": [
    {
      "cell_type": "code",
      "execution_count": 1,
      "metadata": {
        "id": "Fi2Kwiso7A5k"
      },
      "outputs": [],
      "source": [
        "import pandas as pd\n",
        "import numpy as np\n",
        "import matplotlib.pyplot as plt\n",
        "%matplotlib inline\n",
        "import seaborn as sns\n",
        "import statistics "
      ]
    },
    {
      "cell_type": "code",
      "source": [
        "from google.colab import drive "
      ],
      "metadata": {
        "id": "E6mW68o_8pmL"
      },
      "execution_count": 2,
      "outputs": []
    },
    {
      "cell_type": "code",
      "source": [
        "drive.mount('/gdrive', force_remount=True) "
      ],
      "metadata": {
        "colab": {
          "base_uri": "https://localhost:8080/"
        },
        "id": "Ph_ko_9U8vlV",
        "outputId": "863ef255-5961-431b-91b4-e2944a9a8260"
      },
      "execution_count": 3,
      "outputs": [
        {
          "output_type": "stream",
          "name": "stdout",
          "text": [
            "Mounted at /gdrive\n"
          ]
        }
      ]
    },
    {
      "cell_type": "code",
      "source": [
        "# The train dataset is being imported \n",
        "train_df = pd.read_csv('/gdrive/My Drive/Train.csv')"
      ],
      "metadata": {
        "colab": {
          "base_uri": "https://localhost:8080/"
        },
        "id": "_dfOLrr886gf",
        "outputId": "7d5032be-2db2-4011-b4f5-8473795b316f"
      },
      "execution_count": 4,
      "outputs": [
        {
          "output_type": "stream",
          "name": "stderr",
          "text": [
            "/usr/local/lib/python3.7/dist-packages/IPython/core/interactiveshell.py:2882: DtypeWarning: Columns (5,8,11,15) have mixed types.Specify dtype option on import or set low_memory=False.\n",
            "  exec(code_obj, self.user_global_ns, self.user_ns)\n"
          ]
        }
      ]
    },
    {
      "cell_type": "code",
      "source": [
        "train_df.shape"
      ],
      "metadata": {
        "colab": {
          "base_uri": "https://localhost:8080/"
        },
        "id": "KFRbd43O_Xdd",
        "outputId": "8b2e227f-78be-4a0a-bb6e-9ae3493859d3"
      },
      "execution_count": 5,
      "outputs": [
        {
          "output_type": "execute_result",
          "data": {
            "text/plain": [
              "(13647309, 48)"
            ]
          },
          "metadata": {},
          "execution_count": 5
        }
      ]
    },
    {
      "cell_type": "code",
      "source": [
        "train_df.head()"
      ],
      "metadata": {
        "colab": {
          "base_uri": "https://localhost:8080/",
          "height": 300
        },
        "id": "HFo-_NOyJmgx",
        "outputId": "08e6a14a-7223-4d53-9ff7-700910454703"
      },
      "execution_count": 6,
      "outputs": [
        {
          "output_type": "execute_result",
          "data": {
            "text/plain": [
              "   fecha_dato  ncodpers ind_empleado pais_residencia sexo  age  fecha_alta  \\\n",
              "0  2015-01-28   1375586            N              ES    H   35  2015-01-12   \n",
              "1  2015-01-28   1050611            N              ES    V   23  2012-08-10   \n",
              "2  2015-01-28   1050612            N              ES    V   23  2012-08-10   \n",
              "3  2015-01-28   1050613            N              ES    H   22  2012-08-10   \n",
              "4  2015-01-28   1050614            N              ES    V   23  2012-08-10   \n",
              "\n",
              "   ind_nuevo antiguedad  indrel  ... ind_hip_fin_ult1 ind_plan_fin_ult1  \\\n",
              "0        0.0          6     1.0  ...                0                 0   \n",
              "1        0.0         35     1.0  ...                0                 0   \n",
              "2        0.0         35     1.0  ...                0                 0   \n",
              "3        0.0         35     1.0  ...                0                 0   \n",
              "4        0.0         35     1.0  ...                0                 0   \n",
              "\n",
              "  ind_pres_fin_ult1 ind_reca_fin_ult1 ind_tjcr_fin_ult1 ind_valo_fin_ult1  \\\n",
              "0                 0                 0                 0                 0   \n",
              "1                 0                 0                 0                 0   \n",
              "2                 0                 0                 0                 0   \n",
              "3                 0                 0                 0                 0   \n",
              "4                 0                 0                 0                 0   \n",
              "\n",
              "  ind_viv_fin_ult1 ind_nomina_ult1  ind_nom_pens_ult1  ind_recibo_ult1  \n",
              "0                0             0.0                0.0                0  \n",
              "1                0             0.0                0.0                0  \n",
              "2                0             0.0                0.0                0  \n",
              "3                0             0.0                0.0                0  \n",
              "4                0             0.0                0.0                0  \n",
              "\n",
              "[5 rows x 48 columns]"
            ],
            "text/html": [
              "\n",
              "  <div id=\"df-e19d5a8b-8e8a-4308-ac2e-d9b5b258ebb7\">\n",
              "    <div class=\"colab-df-container\">\n",
              "      <div>\n",
              "<style scoped>\n",
              "    .dataframe tbody tr th:only-of-type {\n",
              "        vertical-align: middle;\n",
              "    }\n",
              "\n",
              "    .dataframe tbody tr th {\n",
              "        vertical-align: top;\n",
              "    }\n",
              "\n",
              "    .dataframe thead th {\n",
              "        text-align: right;\n",
              "    }\n",
              "</style>\n",
              "<table border=\"1\" class=\"dataframe\">\n",
              "  <thead>\n",
              "    <tr style=\"text-align: right;\">\n",
              "      <th></th>\n",
              "      <th>fecha_dato</th>\n",
              "      <th>ncodpers</th>\n",
              "      <th>ind_empleado</th>\n",
              "      <th>pais_residencia</th>\n",
              "      <th>sexo</th>\n",
              "      <th>age</th>\n",
              "      <th>fecha_alta</th>\n",
              "      <th>ind_nuevo</th>\n",
              "      <th>antiguedad</th>\n",
              "      <th>indrel</th>\n",
              "      <th>...</th>\n",
              "      <th>ind_hip_fin_ult1</th>\n",
              "      <th>ind_plan_fin_ult1</th>\n",
              "      <th>ind_pres_fin_ult1</th>\n",
              "      <th>ind_reca_fin_ult1</th>\n",
              "      <th>ind_tjcr_fin_ult1</th>\n",
              "      <th>ind_valo_fin_ult1</th>\n",
              "      <th>ind_viv_fin_ult1</th>\n",
              "      <th>ind_nomina_ult1</th>\n",
              "      <th>ind_nom_pens_ult1</th>\n",
              "      <th>ind_recibo_ult1</th>\n",
              "    </tr>\n",
              "  </thead>\n",
              "  <tbody>\n",
              "    <tr>\n",
              "      <th>0</th>\n",
              "      <td>2015-01-28</td>\n",
              "      <td>1375586</td>\n",
              "      <td>N</td>\n",
              "      <td>ES</td>\n",
              "      <td>H</td>\n",
              "      <td>35</td>\n",
              "      <td>2015-01-12</td>\n",
              "      <td>0.0</td>\n",
              "      <td>6</td>\n",
              "      <td>1.0</td>\n",
              "      <td>...</td>\n",
              "      <td>0</td>\n",
              "      <td>0</td>\n",
              "      <td>0</td>\n",
              "      <td>0</td>\n",
              "      <td>0</td>\n",
              "      <td>0</td>\n",
              "      <td>0</td>\n",
              "      <td>0.0</td>\n",
              "      <td>0.0</td>\n",
              "      <td>0</td>\n",
              "    </tr>\n",
              "    <tr>\n",
              "      <th>1</th>\n",
              "      <td>2015-01-28</td>\n",
              "      <td>1050611</td>\n",
              "      <td>N</td>\n",
              "      <td>ES</td>\n",
              "      <td>V</td>\n",
              "      <td>23</td>\n",
              "      <td>2012-08-10</td>\n",
              "      <td>0.0</td>\n",
              "      <td>35</td>\n",
              "      <td>1.0</td>\n",
              "      <td>...</td>\n",
              "      <td>0</td>\n",
              "      <td>0</td>\n",
              "      <td>0</td>\n",
              "      <td>0</td>\n",
              "      <td>0</td>\n",
              "      <td>0</td>\n",
              "      <td>0</td>\n",
              "      <td>0.0</td>\n",
              "      <td>0.0</td>\n",
              "      <td>0</td>\n",
              "    </tr>\n",
              "    <tr>\n",
              "      <th>2</th>\n",
              "      <td>2015-01-28</td>\n",
              "      <td>1050612</td>\n",
              "      <td>N</td>\n",
              "      <td>ES</td>\n",
              "      <td>V</td>\n",
              "      <td>23</td>\n",
              "      <td>2012-08-10</td>\n",
              "      <td>0.0</td>\n",
              "      <td>35</td>\n",
              "      <td>1.0</td>\n",
              "      <td>...</td>\n",
              "      <td>0</td>\n",
              "      <td>0</td>\n",
              "      <td>0</td>\n",
              "      <td>0</td>\n",
              "      <td>0</td>\n",
              "      <td>0</td>\n",
              "      <td>0</td>\n",
              "      <td>0.0</td>\n",
              "      <td>0.0</td>\n",
              "      <td>0</td>\n",
              "    </tr>\n",
              "    <tr>\n",
              "      <th>3</th>\n",
              "      <td>2015-01-28</td>\n",
              "      <td>1050613</td>\n",
              "      <td>N</td>\n",
              "      <td>ES</td>\n",
              "      <td>H</td>\n",
              "      <td>22</td>\n",
              "      <td>2012-08-10</td>\n",
              "      <td>0.0</td>\n",
              "      <td>35</td>\n",
              "      <td>1.0</td>\n",
              "      <td>...</td>\n",
              "      <td>0</td>\n",
              "      <td>0</td>\n",
              "      <td>0</td>\n",
              "      <td>0</td>\n",
              "      <td>0</td>\n",
              "      <td>0</td>\n",
              "      <td>0</td>\n",
              "      <td>0.0</td>\n",
              "      <td>0.0</td>\n",
              "      <td>0</td>\n",
              "    </tr>\n",
              "    <tr>\n",
              "      <th>4</th>\n",
              "      <td>2015-01-28</td>\n",
              "      <td>1050614</td>\n",
              "      <td>N</td>\n",
              "      <td>ES</td>\n",
              "      <td>V</td>\n",
              "      <td>23</td>\n",
              "      <td>2012-08-10</td>\n",
              "      <td>0.0</td>\n",
              "      <td>35</td>\n",
              "      <td>1.0</td>\n",
              "      <td>...</td>\n",
              "      <td>0</td>\n",
              "      <td>0</td>\n",
              "      <td>0</td>\n",
              "      <td>0</td>\n",
              "      <td>0</td>\n",
              "      <td>0</td>\n",
              "      <td>0</td>\n",
              "      <td>0.0</td>\n",
              "      <td>0.0</td>\n",
              "      <td>0</td>\n",
              "    </tr>\n",
              "  </tbody>\n",
              "</table>\n",
              "<p>5 rows × 48 columns</p>\n",
              "</div>\n",
              "      <button class=\"colab-df-convert\" onclick=\"convertToInteractive('df-e19d5a8b-8e8a-4308-ac2e-d9b5b258ebb7')\"\n",
              "              title=\"Convert this dataframe to an interactive table.\"\n",
              "              style=\"display:none;\">\n",
              "        \n",
              "  <svg xmlns=\"http://www.w3.org/2000/svg\" height=\"24px\"viewBox=\"0 0 24 24\"\n",
              "       width=\"24px\">\n",
              "    <path d=\"M0 0h24v24H0V0z\" fill=\"none\"/>\n",
              "    <path d=\"M18.56 5.44l.94 2.06.94-2.06 2.06-.94-2.06-.94-.94-2.06-.94 2.06-2.06.94zm-11 1L8.5 8.5l.94-2.06 2.06-.94-2.06-.94L8.5 2.5l-.94 2.06-2.06.94zm10 10l.94 2.06.94-2.06 2.06-.94-2.06-.94-.94-2.06-.94 2.06-2.06.94z\"/><path d=\"M17.41 7.96l-1.37-1.37c-.4-.4-.92-.59-1.43-.59-.52 0-1.04.2-1.43.59L10.3 9.45l-7.72 7.72c-.78.78-.78 2.05 0 2.83L4 21.41c.39.39.9.59 1.41.59.51 0 1.02-.2 1.41-.59l7.78-7.78 2.81-2.81c.8-.78.8-2.07 0-2.86zM5.41 20L4 18.59l7.72-7.72 1.47 1.35L5.41 20z\"/>\n",
              "  </svg>\n",
              "      </button>\n",
              "      \n",
              "  <style>\n",
              "    .colab-df-container {\n",
              "      display:flex;\n",
              "      flex-wrap:wrap;\n",
              "      gap: 12px;\n",
              "    }\n",
              "\n",
              "    .colab-df-convert {\n",
              "      background-color: #E8F0FE;\n",
              "      border: none;\n",
              "      border-radius: 50%;\n",
              "      cursor: pointer;\n",
              "      display: none;\n",
              "      fill: #1967D2;\n",
              "      height: 32px;\n",
              "      padding: 0 0 0 0;\n",
              "      width: 32px;\n",
              "    }\n",
              "\n",
              "    .colab-df-convert:hover {\n",
              "      background-color: #E2EBFA;\n",
              "      box-shadow: 0px 1px 2px rgba(60, 64, 67, 0.3), 0px 1px 3px 1px rgba(60, 64, 67, 0.15);\n",
              "      fill: #174EA6;\n",
              "    }\n",
              "\n",
              "    [theme=dark] .colab-df-convert {\n",
              "      background-color: #3B4455;\n",
              "      fill: #D2E3FC;\n",
              "    }\n",
              "\n",
              "    [theme=dark] .colab-df-convert:hover {\n",
              "      background-color: #434B5C;\n",
              "      box-shadow: 0px 1px 3px 1px rgba(0, 0, 0, 0.15);\n",
              "      filter: drop-shadow(0px 1px 2px rgba(0, 0, 0, 0.3));\n",
              "      fill: #FFFFFF;\n",
              "    }\n",
              "  </style>\n",
              "\n",
              "      <script>\n",
              "        const buttonEl =\n",
              "          document.querySelector('#df-e19d5a8b-8e8a-4308-ac2e-d9b5b258ebb7 button.colab-df-convert');\n",
              "        buttonEl.style.display =\n",
              "          google.colab.kernel.accessAllowed ? 'block' : 'none';\n",
              "\n",
              "        async function convertToInteractive(key) {\n",
              "          const element = document.querySelector('#df-e19d5a8b-8e8a-4308-ac2e-d9b5b258ebb7');\n",
              "          const dataTable =\n",
              "            await google.colab.kernel.invokeFunction('convertToInteractive',\n",
              "                                                     [key], {});\n",
              "          if (!dataTable) return;\n",
              "\n",
              "          const docLinkHtml = 'Like what you see? Visit the ' +\n",
              "            '<a target=\"_blank\" href=https://colab.research.google.com/notebooks/data_table.ipynb>data table notebook</a>'\n",
              "            + ' to learn more about interactive tables.';\n",
              "          element.innerHTML = '';\n",
              "          dataTable['output_type'] = 'display_data';\n",
              "          await google.colab.output.renderOutput(dataTable, element);\n",
              "          const docLink = document.createElement('div');\n",
              "          docLink.innerHTML = docLinkHtml;\n",
              "          element.appendChild(docLink);\n",
              "        }\n",
              "      </script>\n",
              "    </div>\n",
              "  </div>\n",
              "  "
            ]
          },
          "metadata": {},
          "execution_count": 6
        }
      ]
    },
    {
      "cell_type": "code",
      "source": [
        "train_df.info()"
      ],
      "metadata": {
        "colab": {
          "base_uri": "https://localhost:8080/"
        },
        "id": "eUatagqLJsnh",
        "outputId": "a2c1dae6-5661-4524-a7b0-2258cdce4d0a"
      },
      "execution_count": 7,
      "outputs": [
        {
          "output_type": "stream",
          "name": "stdout",
          "text": [
            "<class 'pandas.core.frame.DataFrame'>\n",
            "RangeIndex: 13647309 entries, 0 to 13647308\n",
            "Data columns (total 48 columns):\n",
            " #   Column                 Dtype  \n",
            "---  ------                 -----  \n",
            " 0   fecha_dato             object \n",
            " 1   ncodpers               int64  \n",
            " 2   ind_empleado           object \n",
            " 3   pais_residencia        object \n",
            " 4   sexo                   object \n",
            " 5   age                    object \n",
            " 6   fecha_alta             object \n",
            " 7   ind_nuevo              float64\n",
            " 8   antiguedad             object \n",
            " 9   indrel                 float64\n",
            " 10  ult_fec_cli_1t         object \n",
            " 11  indrel_1mes            object \n",
            " 12  tiprel_1mes            object \n",
            " 13  indresi                object \n",
            " 14  indext                 object \n",
            " 15  conyuemp               object \n",
            " 16  canal_entrada          object \n",
            " 17  indfall                object \n",
            " 18  tipodom                float64\n",
            " 19  cod_prov               float64\n",
            " 20  nomprov                object \n",
            " 21  ind_actividad_cliente  float64\n",
            " 22  renta                  float64\n",
            " 23  segmento               object \n",
            " 24  ind_ahor_fin_ult1      int64  \n",
            " 25  ind_aval_fin_ult1      int64  \n",
            " 26  ind_cco_fin_ult1       int64  \n",
            " 27  ind_cder_fin_ult1      int64  \n",
            " 28  ind_cno_fin_ult1       int64  \n",
            " 29  ind_ctju_fin_ult1      int64  \n",
            " 30  ind_ctma_fin_ult1      int64  \n",
            " 31  ind_ctop_fin_ult1      int64  \n",
            " 32  ind_ctpp_fin_ult1      int64  \n",
            " 33  ind_deco_fin_ult1      int64  \n",
            " 34  ind_deme_fin_ult1      int64  \n",
            " 35  ind_dela_fin_ult1      int64  \n",
            " 36  ind_ecue_fin_ult1      int64  \n",
            " 37  ind_fond_fin_ult1      int64  \n",
            " 38  ind_hip_fin_ult1       int64  \n",
            " 39  ind_plan_fin_ult1      int64  \n",
            " 40  ind_pres_fin_ult1      int64  \n",
            " 41  ind_reca_fin_ult1      int64  \n",
            " 42  ind_tjcr_fin_ult1      int64  \n",
            " 43  ind_valo_fin_ult1      int64  \n",
            " 44  ind_viv_fin_ult1       int64  \n",
            " 45  ind_nomina_ult1        float64\n",
            " 46  ind_nom_pens_ult1      float64\n",
            " 47  ind_recibo_ult1        int64  \n",
            "dtypes: float64(8), int64(23), object(17)\n",
            "memory usage: 4.9+ GB\n"
          ]
        }
      ]
    },
    {
      "cell_type": "code",
      "source": [
        "train_df.isnull().any().any()"
      ],
      "metadata": {
        "colab": {
          "base_uri": "https://localhost:8080/"
        },
        "id": "XC-bDhh_LccY",
        "outputId": "3238d227-7e65-42e6-a5fa-8f1c2300f130"
      },
      "execution_count": 8,
      "outputs": [
        {
          "output_type": "execute_result",
          "data": {
            "text/plain": [
              "True"
            ]
          },
          "metadata": {},
          "execution_count": 8
        }
      ]
    },
    {
      "cell_type": "code",
      "source": [
        "train_df.isnull().sum()"
      ],
      "metadata": {
        "colab": {
          "base_uri": "https://localhost:8080/"
        },
        "id": "Ot-ap2uTL0F9",
        "outputId": "cfbc7607-0347-4dd2-dd65-1fbaf5ddaa4f"
      },
      "execution_count": 9,
      "outputs": [
        {
          "output_type": "execute_result",
          "data": {
            "text/plain": [
              "fecha_dato                      0\n",
              "ncodpers                        0\n",
              "ind_empleado                27734\n",
              "pais_residencia             27734\n",
              "sexo                        27804\n",
              "age                             0\n",
              "fecha_alta                  27734\n",
              "ind_nuevo                   27734\n",
              "antiguedad                      0\n",
              "indrel                      27734\n",
              "ult_fec_cli_1t           13622516\n",
              "indrel_1mes                149781\n",
              "tiprel_1mes                149781\n",
              "indresi                     27734\n",
              "indext                      27734\n",
              "conyuemp                 13645501\n",
              "canal_entrada              186126\n",
              "indfall                     27734\n",
              "tipodom                     27735\n",
              "cod_prov                    93591\n",
              "nomprov                     93591\n",
              "ind_actividad_cliente       27734\n",
              "renta                     2794375\n",
              "segmento                   189368\n",
              "ind_ahor_fin_ult1               0\n",
              "ind_aval_fin_ult1               0\n",
              "ind_cco_fin_ult1                0\n",
              "ind_cder_fin_ult1               0\n",
              "ind_cno_fin_ult1                0\n",
              "ind_ctju_fin_ult1               0\n",
              "ind_ctma_fin_ult1               0\n",
              "ind_ctop_fin_ult1               0\n",
              "ind_ctpp_fin_ult1               0\n",
              "ind_deco_fin_ult1               0\n",
              "ind_deme_fin_ult1               0\n",
              "ind_dela_fin_ult1               0\n",
              "ind_ecue_fin_ult1               0\n",
              "ind_fond_fin_ult1               0\n",
              "ind_hip_fin_ult1                0\n",
              "ind_plan_fin_ult1               0\n",
              "ind_pres_fin_ult1               0\n",
              "ind_reca_fin_ult1               0\n",
              "ind_tjcr_fin_ult1               0\n",
              "ind_valo_fin_ult1               0\n",
              "ind_viv_fin_ult1                0\n",
              "ind_nomina_ult1             16063\n",
              "ind_nom_pens_ult1           16063\n",
              "ind_recibo_ult1                 0\n",
              "dtype: int64"
            ]
          },
          "metadata": {},
          "execution_count": 9
        }
      ]
    },
    {
      "cell_type": "code",
      "source": [
        "train_df.isnull().values.any()"
      ],
      "metadata": {
        "colab": {
          "base_uri": "https://localhost:8080/"
        },
        "id": "35F9qjkCLpij",
        "outputId": "b1887db0-2035-4185-ea56-d0677873243a"
      },
      "execution_count": 10,
      "outputs": [
        {
          "output_type": "execute_result",
          "data": {
            "text/plain": [
              "True"
            ]
          },
          "metadata": {},
          "execution_count": 10
        }
      ]
    },
    {
      "cell_type": "code",
      "source": [
        "train_df.isnull().any()"
      ],
      "metadata": {
        "colab": {
          "base_uri": "https://localhost:8080/"
        },
        "id": "wdfZWRPHx77y",
        "outputId": "d2a8e0ec-9aca-4684-d167-142f26814635"
      },
      "execution_count": 11,
      "outputs": [
        {
          "output_type": "execute_result",
          "data": {
            "text/plain": [
              "fecha_dato               False\n",
              "ncodpers                 False\n",
              "ind_empleado              True\n",
              "pais_residencia           True\n",
              "sexo                      True\n",
              "age                      False\n",
              "fecha_alta                True\n",
              "ind_nuevo                 True\n",
              "antiguedad               False\n",
              "indrel                    True\n",
              "ult_fec_cli_1t            True\n",
              "indrel_1mes               True\n",
              "tiprel_1mes               True\n",
              "indresi                   True\n",
              "indext                    True\n",
              "conyuemp                  True\n",
              "canal_entrada             True\n",
              "indfall                   True\n",
              "tipodom                   True\n",
              "cod_prov                  True\n",
              "nomprov                   True\n",
              "ind_actividad_cliente     True\n",
              "renta                     True\n",
              "segmento                  True\n",
              "ind_ahor_fin_ult1        False\n",
              "ind_aval_fin_ult1        False\n",
              "ind_cco_fin_ult1         False\n",
              "ind_cder_fin_ult1        False\n",
              "ind_cno_fin_ult1         False\n",
              "ind_ctju_fin_ult1        False\n",
              "ind_ctma_fin_ult1        False\n",
              "ind_ctop_fin_ult1        False\n",
              "ind_ctpp_fin_ult1        False\n",
              "ind_deco_fin_ult1        False\n",
              "ind_deme_fin_ult1        False\n",
              "ind_dela_fin_ult1        False\n",
              "ind_ecue_fin_ult1        False\n",
              "ind_fond_fin_ult1        False\n",
              "ind_hip_fin_ult1         False\n",
              "ind_plan_fin_ult1        False\n",
              "ind_pres_fin_ult1        False\n",
              "ind_reca_fin_ult1        False\n",
              "ind_tjcr_fin_ult1        False\n",
              "ind_valo_fin_ult1        False\n",
              "ind_viv_fin_ult1         False\n",
              "ind_nomina_ult1           True\n",
              "ind_nom_pens_ult1         True\n",
              "ind_recibo_ult1          False\n",
              "dtype: bool"
            ]
          },
          "metadata": {},
          "execution_count": 11
        }
      ]
    },
    {
      "cell_type": "code",
      "source": [
        "train_df_zero=train_df.fillna(0)"
      ],
      "metadata": {
        "id": "O7ul7m6tMG9u"
      },
      "execution_count": 12,
      "outputs": []
    },
    {
      "cell_type": "code",
      "source": [
        "train_df_zero"
      ],
      "metadata": {
        "colab": {
          "base_uri": "https://localhost:8080/",
          "height": 488
        },
        "id": "GZcX76gnMh4j",
        "outputId": "8cc0cae8-77f2-45e5-c395-5ddf6bedcb8e"
      },
      "execution_count": 13,
      "outputs": [
        {
          "output_type": "execute_result",
          "data": {
            "text/plain": [
              "          fecha_dato  ncodpers ind_empleado pais_residencia sexo  age  \\\n",
              "0         2015-01-28   1375586            N              ES    H   35   \n",
              "1         2015-01-28   1050611            N              ES    V   23   \n",
              "2         2015-01-28   1050612            N              ES    V   23   \n",
              "3         2015-01-28   1050613            N              ES    H   22   \n",
              "4         2015-01-28   1050614            N              ES    V   23   \n",
              "...              ...       ...          ...             ...  ...  ...   \n",
              "13647304  2016-05-28   1166765            N              ES    V   22   \n",
              "13647305  2016-05-28   1166764            N              ES    V   23   \n",
              "13647306  2016-05-28   1166763            N              ES    H   47   \n",
              "13647307  2016-05-28   1166789            N              ES    H   22   \n",
              "13647308  2016-05-28   1550586            N              ES    H   37   \n",
              "\n",
              "          fecha_alta  ind_nuevo antiguedad  indrel  ... ind_hip_fin_ult1  \\\n",
              "0         2015-01-12        0.0          6     1.0  ...                0   \n",
              "1         2012-08-10        0.0         35     1.0  ...                0   \n",
              "2         2012-08-10        0.0         35     1.0  ...                0   \n",
              "3         2012-08-10        0.0         35     1.0  ...                0   \n",
              "4         2012-08-10        0.0         35     1.0  ...                0   \n",
              "...              ...        ...        ...     ...  ...              ...   \n",
              "13647304  2013-08-14        0.0         33     1.0  ...                0   \n",
              "13647305  2013-08-14        0.0         33     1.0  ...                0   \n",
              "13647306  2013-08-14        0.0         33     1.0  ...                0   \n",
              "13647307  2013-08-14        0.0         33     1.0  ...                0   \n",
              "13647308  2016-05-13        1.0          0     1.0  ...                0   \n",
              "\n",
              "         ind_plan_fin_ult1 ind_pres_fin_ult1 ind_reca_fin_ult1  \\\n",
              "0                        0                 0                 0   \n",
              "1                        0                 0                 0   \n",
              "2                        0                 0                 0   \n",
              "3                        0                 0                 0   \n",
              "4                        0                 0                 0   \n",
              "...                    ...               ...               ...   \n",
              "13647304                 0                 0                 0   \n",
              "13647305                 0                 0                 0   \n",
              "13647306                 0                 0                 0   \n",
              "13647307                 0                 0                 0   \n",
              "13647308                 0                 0                 0   \n",
              "\n",
              "         ind_tjcr_fin_ult1 ind_valo_fin_ult1 ind_viv_fin_ult1 ind_nomina_ult1  \\\n",
              "0                        0                 0                0             0.0   \n",
              "1                        0                 0                0             0.0   \n",
              "2                        0                 0                0             0.0   \n",
              "3                        0                 0                0             0.0   \n",
              "4                        0                 0                0             0.0   \n",
              "...                    ...               ...              ...             ...   \n",
              "13647304                 0                 0                0             0.0   \n",
              "13647305                 0                 0                0             0.0   \n",
              "13647306                 0                 0                0             0.0   \n",
              "13647307                 0                 0                0             0.0   \n",
              "13647308                 0                 0                0             0.0   \n",
              "\n",
              "          ind_nom_pens_ult1  ind_recibo_ult1  \n",
              "0                       0.0                0  \n",
              "1                       0.0                0  \n",
              "2                       0.0                0  \n",
              "3                       0.0                0  \n",
              "4                       0.0                0  \n",
              "...                     ...              ...  \n",
              "13647304                0.0                0  \n",
              "13647305                0.0                0  \n",
              "13647306                0.0                0  \n",
              "13647307                0.0                0  \n",
              "13647308                0.0                0  \n",
              "\n",
              "[13647309 rows x 48 columns]"
            ],
            "text/html": [
              "\n",
              "  <div id=\"df-ca03cd56-36fb-4d29-989d-75e9b38d0e51\">\n",
              "    <div class=\"colab-df-container\">\n",
              "      <div>\n",
              "<style scoped>\n",
              "    .dataframe tbody tr th:only-of-type {\n",
              "        vertical-align: middle;\n",
              "    }\n",
              "\n",
              "    .dataframe tbody tr th {\n",
              "        vertical-align: top;\n",
              "    }\n",
              "\n",
              "    .dataframe thead th {\n",
              "        text-align: right;\n",
              "    }\n",
              "</style>\n",
              "<table border=\"1\" class=\"dataframe\">\n",
              "  <thead>\n",
              "    <tr style=\"text-align: right;\">\n",
              "      <th></th>\n",
              "      <th>fecha_dato</th>\n",
              "      <th>ncodpers</th>\n",
              "      <th>ind_empleado</th>\n",
              "      <th>pais_residencia</th>\n",
              "      <th>sexo</th>\n",
              "      <th>age</th>\n",
              "      <th>fecha_alta</th>\n",
              "      <th>ind_nuevo</th>\n",
              "      <th>antiguedad</th>\n",
              "      <th>indrel</th>\n",
              "      <th>...</th>\n",
              "      <th>ind_hip_fin_ult1</th>\n",
              "      <th>ind_plan_fin_ult1</th>\n",
              "      <th>ind_pres_fin_ult1</th>\n",
              "      <th>ind_reca_fin_ult1</th>\n",
              "      <th>ind_tjcr_fin_ult1</th>\n",
              "      <th>ind_valo_fin_ult1</th>\n",
              "      <th>ind_viv_fin_ult1</th>\n",
              "      <th>ind_nomina_ult1</th>\n",
              "      <th>ind_nom_pens_ult1</th>\n",
              "      <th>ind_recibo_ult1</th>\n",
              "    </tr>\n",
              "  </thead>\n",
              "  <tbody>\n",
              "    <tr>\n",
              "      <th>0</th>\n",
              "      <td>2015-01-28</td>\n",
              "      <td>1375586</td>\n",
              "      <td>N</td>\n",
              "      <td>ES</td>\n",
              "      <td>H</td>\n",
              "      <td>35</td>\n",
              "      <td>2015-01-12</td>\n",
              "      <td>0.0</td>\n",
              "      <td>6</td>\n",
              "      <td>1.0</td>\n",
              "      <td>...</td>\n",
              "      <td>0</td>\n",
              "      <td>0</td>\n",
              "      <td>0</td>\n",
              "      <td>0</td>\n",
              "      <td>0</td>\n",
              "      <td>0</td>\n",
              "      <td>0</td>\n",
              "      <td>0.0</td>\n",
              "      <td>0.0</td>\n",
              "      <td>0</td>\n",
              "    </tr>\n",
              "    <tr>\n",
              "      <th>1</th>\n",
              "      <td>2015-01-28</td>\n",
              "      <td>1050611</td>\n",
              "      <td>N</td>\n",
              "      <td>ES</td>\n",
              "      <td>V</td>\n",
              "      <td>23</td>\n",
              "      <td>2012-08-10</td>\n",
              "      <td>0.0</td>\n",
              "      <td>35</td>\n",
              "      <td>1.0</td>\n",
              "      <td>...</td>\n",
              "      <td>0</td>\n",
              "      <td>0</td>\n",
              "      <td>0</td>\n",
              "      <td>0</td>\n",
              "      <td>0</td>\n",
              "      <td>0</td>\n",
              "      <td>0</td>\n",
              "      <td>0.0</td>\n",
              "      <td>0.0</td>\n",
              "      <td>0</td>\n",
              "    </tr>\n",
              "    <tr>\n",
              "      <th>2</th>\n",
              "      <td>2015-01-28</td>\n",
              "      <td>1050612</td>\n",
              "      <td>N</td>\n",
              "      <td>ES</td>\n",
              "      <td>V</td>\n",
              "      <td>23</td>\n",
              "      <td>2012-08-10</td>\n",
              "      <td>0.0</td>\n",
              "      <td>35</td>\n",
              "      <td>1.0</td>\n",
              "      <td>...</td>\n",
              "      <td>0</td>\n",
              "      <td>0</td>\n",
              "      <td>0</td>\n",
              "      <td>0</td>\n",
              "      <td>0</td>\n",
              "      <td>0</td>\n",
              "      <td>0</td>\n",
              "      <td>0.0</td>\n",
              "      <td>0.0</td>\n",
              "      <td>0</td>\n",
              "    </tr>\n",
              "    <tr>\n",
              "      <th>3</th>\n",
              "      <td>2015-01-28</td>\n",
              "      <td>1050613</td>\n",
              "      <td>N</td>\n",
              "      <td>ES</td>\n",
              "      <td>H</td>\n",
              "      <td>22</td>\n",
              "      <td>2012-08-10</td>\n",
              "      <td>0.0</td>\n",
              "      <td>35</td>\n",
              "      <td>1.0</td>\n",
              "      <td>...</td>\n",
              "      <td>0</td>\n",
              "      <td>0</td>\n",
              "      <td>0</td>\n",
              "      <td>0</td>\n",
              "      <td>0</td>\n",
              "      <td>0</td>\n",
              "      <td>0</td>\n",
              "      <td>0.0</td>\n",
              "      <td>0.0</td>\n",
              "      <td>0</td>\n",
              "    </tr>\n",
              "    <tr>\n",
              "      <th>4</th>\n",
              "      <td>2015-01-28</td>\n",
              "      <td>1050614</td>\n",
              "      <td>N</td>\n",
              "      <td>ES</td>\n",
              "      <td>V</td>\n",
              "      <td>23</td>\n",
              "      <td>2012-08-10</td>\n",
              "      <td>0.0</td>\n",
              "      <td>35</td>\n",
              "      <td>1.0</td>\n",
              "      <td>...</td>\n",
              "      <td>0</td>\n",
              "      <td>0</td>\n",
              "      <td>0</td>\n",
              "      <td>0</td>\n",
              "      <td>0</td>\n",
              "      <td>0</td>\n",
              "      <td>0</td>\n",
              "      <td>0.0</td>\n",
              "      <td>0.0</td>\n",
              "      <td>0</td>\n",
              "    </tr>\n",
              "    <tr>\n",
              "      <th>...</th>\n",
              "      <td>...</td>\n",
              "      <td>...</td>\n",
              "      <td>...</td>\n",
              "      <td>...</td>\n",
              "      <td>...</td>\n",
              "      <td>...</td>\n",
              "      <td>...</td>\n",
              "      <td>...</td>\n",
              "      <td>...</td>\n",
              "      <td>...</td>\n",
              "      <td>...</td>\n",
              "      <td>...</td>\n",
              "      <td>...</td>\n",
              "      <td>...</td>\n",
              "      <td>...</td>\n",
              "      <td>...</td>\n",
              "      <td>...</td>\n",
              "      <td>...</td>\n",
              "      <td>...</td>\n",
              "      <td>...</td>\n",
              "      <td>...</td>\n",
              "    </tr>\n",
              "    <tr>\n",
              "      <th>13647304</th>\n",
              "      <td>2016-05-28</td>\n",
              "      <td>1166765</td>\n",
              "      <td>N</td>\n",
              "      <td>ES</td>\n",
              "      <td>V</td>\n",
              "      <td>22</td>\n",
              "      <td>2013-08-14</td>\n",
              "      <td>0.0</td>\n",
              "      <td>33</td>\n",
              "      <td>1.0</td>\n",
              "      <td>...</td>\n",
              "      <td>0</td>\n",
              "      <td>0</td>\n",
              "      <td>0</td>\n",
              "      <td>0</td>\n",
              "      <td>0</td>\n",
              "      <td>0</td>\n",
              "      <td>0</td>\n",
              "      <td>0.0</td>\n",
              "      <td>0.0</td>\n",
              "      <td>0</td>\n",
              "    </tr>\n",
              "    <tr>\n",
              "      <th>13647305</th>\n",
              "      <td>2016-05-28</td>\n",
              "      <td>1166764</td>\n",
              "      <td>N</td>\n",
              "      <td>ES</td>\n",
              "      <td>V</td>\n",
              "      <td>23</td>\n",
              "      <td>2013-08-14</td>\n",
              "      <td>0.0</td>\n",
              "      <td>33</td>\n",
              "      <td>1.0</td>\n",
              "      <td>...</td>\n",
              "      <td>0</td>\n",
              "      <td>0</td>\n",
              "      <td>0</td>\n",
              "      <td>0</td>\n",
              "      <td>0</td>\n",
              "      <td>0</td>\n",
              "      <td>0</td>\n",
              "      <td>0.0</td>\n",
              "      <td>0.0</td>\n",
              "      <td>0</td>\n",
              "    </tr>\n",
              "    <tr>\n",
              "      <th>13647306</th>\n",
              "      <td>2016-05-28</td>\n",
              "      <td>1166763</td>\n",
              "      <td>N</td>\n",
              "      <td>ES</td>\n",
              "      <td>H</td>\n",
              "      <td>47</td>\n",
              "      <td>2013-08-14</td>\n",
              "      <td>0.0</td>\n",
              "      <td>33</td>\n",
              "      <td>1.0</td>\n",
              "      <td>...</td>\n",
              "      <td>0</td>\n",
              "      <td>0</td>\n",
              "      <td>0</td>\n",
              "      <td>0</td>\n",
              "      <td>0</td>\n",
              "      <td>0</td>\n",
              "      <td>0</td>\n",
              "      <td>0.0</td>\n",
              "      <td>0.0</td>\n",
              "      <td>0</td>\n",
              "    </tr>\n",
              "    <tr>\n",
              "      <th>13647307</th>\n",
              "      <td>2016-05-28</td>\n",
              "      <td>1166789</td>\n",
              "      <td>N</td>\n",
              "      <td>ES</td>\n",
              "      <td>H</td>\n",
              "      <td>22</td>\n",
              "      <td>2013-08-14</td>\n",
              "      <td>0.0</td>\n",
              "      <td>33</td>\n",
              "      <td>1.0</td>\n",
              "      <td>...</td>\n",
              "      <td>0</td>\n",
              "      <td>0</td>\n",
              "      <td>0</td>\n",
              "      <td>0</td>\n",
              "      <td>0</td>\n",
              "      <td>0</td>\n",
              "      <td>0</td>\n",
              "      <td>0.0</td>\n",
              "      <td>0.0</td>\n",
              "      <td>0</td>\n",
              "    </tr>\n",
              "    <tr>\n",
              "      <th>13647308</th>\n",
              "      <td>2016-05-28</td>\n",
              "      <td>1550586</td>\n",
              "      <td>N</td>\n",
              "      <td>ES</td>\n",
              "      <td>H</td>\n",
              "      <td>37</td>\n",
              "      <td>2016-05-13</td>\n",
              "      <td>1.0</td>\n",
              "      <td>0</td>\n",
              "      <td>1.0</td>\n",
              "      <td>...</td>\n",
              "      <td>0</td>\n",
              "      <td>0</td>\n",
              "      <td>0</td>\n",
              "      <td>0</td>\n",
              "      <td>0</td>\n",
              "      <td>0</td>\n",
              "      <td>0</td>\n",
              "      <td>0.0</td>\n",
              "      <td>0.0</td>\n",
              "      <td>0</td>\n",
              "    </tr>\n",
              "  </tbody>\n",
              "</table>\n",
              "<p>13647309 rows × 48 columns</p>\n",
              "</div>\n",
              "      <button class=\"colab-df-convert\" onclick=\"convertToInteractive('df-ca03cd56-36fb-4d29-989d-75e9b38d0e51')\"\n",
              "              title=\"Convert this dataframe to an interactive table.\"\n",
              "              style=\"display:none;\">\n",
              "        \n",
              "  <svg xmlns=\"http://www.w3.org/2000/svg\" height=\"24px\"viewBox=\"0 0 24 24\"\n",
              "       width=\"24px\">\n",
              "    <path d=\"M0 0h24v24H0V0z\" fill=\"none\"/>\n",
              "    <path d=\"M18.56 5.44l.94 2.06.94-2.06 2.06-.94-2.06-.94-.94-2.06-.94 2.06-2.06.94zm-11 1L8.5 8.5l.94-2.06 2.06-.94-2.06-.94L8.5 2.5l-.94 2.06-2.06.94zm10 10l.94 2.06.94-2.06 2.06-.94-2.06-.94-.94-2.06-.94 2.06-2.06.94z\"/><path d=\"M17.41 7.96l-1.37-1.37c-.4-.4-.92-.59-1.43-.59-.52 0-1.04.2-1.43.59L10.3 9.45l-7.72 7.72c-.78.78-.78 2.05 0 2.83L4 21.41c.39.39.9.59 1.41.59.51 0 1.02-.2 1.41-.59l7.78-7.78 2.81-2.81c.8-.78.8-2.07 0-2.86zM5.41 20L4 18.59l7.72-7.72 1.47 1.35L5.41 20z\"/>\n",
              "  </svg>\n",
              "      </button>\n",
              "      \n",
              "  <style>\n",
              "    .colab-df-container {\n",
              "      display:flex;\n",
              "      flex-wrap:wrap;\n",
              "      gap: 12px;\n",
              "    }\n",
              "\n",
              "    .colab-df-convert {\n",
              "      background-color: #E8F0FE;\n",
              "      border: none;\n",
              "      border-radius: 50%;\n",
              "      cursor: pointer;\n",
              "      display: none;\n",
              "      fill: #1967D2;\n",
              "      height: 32px;\n",
              "      padding: 0 0 0 0;\n",
              "      width: 32px;\n",
              "    }\n",
              "\n",
              "    .colab-df-convert:hover {\n",
              "      background-color: #E2EBFA;\n",
              "      box-shadow: 0px 1px 2px rgba(60, 64, 67, 0.3), 0px 1px 3px 1px rgba(60, 64, 67, 0.15);\n",
              "      fill: #174EA6;\n",
              "    }\n",
              "\n",
              "    [theme=dark] .colab-df-convert {\n",
              "      background-color: #3B4455;\n",
              "      fill: #D2E3FC;\n",
              "    }\n",
              "\n",
              "    [theme=dark] .colab-df-convert:hover {\n",
              "      background-color: #434B5C;\n",
              "      box-shadow: 0px 1px 3px 1px rgba(0, 0, 0, 0.15);\n",
              "      filter: drop-shadow(0px 1px 2px rgba(0, 0, 0, 0.3));\n",
              "      fill: #FFFFFF;\n",
              "    }\n",
              "  </style>\n",
              "\n",
              "      <script>\n",
              "        const buttonEl =\n",
              "          document.querySelector('#df-ca03cd56-36fb-4d29-989d-75e9b38d0e51 button.colab-df-convert');\n",
              "        buttonEl.style.display =\n",
              "          google.colab.kernel.accessAllowed ? 'block' : 'none';\n",
              "\n",
              "        async function convertToInteractive(key) {\n",
              "          const element = document.querySelector('#df-ca03cd56-36fb-4d29-989d-75e9b38d0e51');\n",
              "          const dataTable =\n",
              "            await google.colab.kernel.invokeFunction('convertToInteractive',\n",
              "                                                     [key], {});\n",
              "          if (!dataTable) return;\n",
              "\n",
              "          const docLinkHtml = 'Like what you see? Visit the ' +\n",
              "            '<a target=\"_blank\" href=https://colab.research.google.com/notebooks/data_table.ipynb>data table notebook</a>'\n",
              "            + ' to learn more about interactive tables.';\n",
              "          element.innerHTML = '';\n",
              "          dataTable['output_type'] = 'display_data';\n",
              "          await google.colab.output.renderOutput(dataTable, element);\n",
              "          const docLink = document.createElement('div');\n",
              "          docLink.innerHTML = docLinkHtml;\n",
              "          element.appendChild(docLink);\n",
              "        }\n",
              "      </script>\n",
              "    </div>\n",
              "  </div>\n",
              "  "
            ]
          },
          "metadata": {},
          "execution_count": 13
        }
      ]
    },
    {
      "cell_type": "code",
      "source": [
        "train_df.info()"
      ],
      "metadata": {
        "colab": {
          "base_uri": "https://localhost:8080/"
        },
        "id": "1ySB3cGpOUSh",
        "outputId": "009e5132-05e8-4c3e-da57-60e4a6b11001"
      },
      "execution_count": 14,
      "outputs": [
        {
          "output_type": "stream",
          "name": "stdout",
          "text": [
            "<class 'pandas.core.frame.DataFrame'>\n",
            "RangeIndex: 13647309 entries, 0 to 13647308\n",
            "Data columns (total 48 columns):\n",
            " #   Column                 Dtype  \n",
            "---  ------                 -----  \n",
            " 0   fecha_dato             object \n",
            " 1   ncodpers               int64  \n",
            " 2   ind_empleado           object \n",
            " 3   pais_residencia        object \n",
            " 4   sexo                   object \n",
            " 5   age                    object \n",
            " 6   fecha_alta             object \n",
            " 7   ind_nuevo              float64\n",
            " 8   antiguedad             object \n",
            " 9   indrel                 float64\n",
            " 10  ult_fec_cli_1t         object \n",
            " 11  indrel_1mes            object \n",
            " 12  tiprel_1mes            object \n",
            " 13  indresi                object \n",
            " 14  indext                 object \n",
            " 15  conyuemp               object \n",
            " 16  canal_entrada          object \n",
            " 17  indfall                object \n",
            " 18  tipodom                float64\n",
            " 19  cod_prov               float64\n",
            " 20  nomprov                object \n",
            " 21  ind_actividad_cliente  float64\n",
            " 22  renta                  float64\n",
            " 23  segmento               object \n",
            " 24  ind_ahor_fin_ult1      int64  \n",
            " 25  ind_aval_fin_ult1      int64  \n",
            " 26  ind_cco_fin_ult1       int64  \n",
            " 27  ind_cder_fin_ult1      int64  \n",
            " 28  ind_cno_fin_ult1       int64  \n",
            " 29  ind_ctju_fin_ult1      int64  \n",
            " 30  ind_ctma_fin_ult1      int64  \n",
            " 31  ind_ctop_fin_ult1      int64  \n",
            " 32  ind_ctpp_fin_ult1      int64  \n",
            " 33  ind_deco_fin_ult1      int64  \n",
            " 34  ind_deme_fin_ult1      int64  \n",
            " 35  ind_dela_fin_ult1      int64  \n",
            " 36  ind_ecue_fin_ult1      int64  \n",
            " 37  ind_fond_fin_ult1      int64  \n",
            " 38  ind_hip_fin_ult1       int64  \n",
            " 39  ind_plan_fin_ult1      int64  \n",
            " 40  ind_pres_fin_ult1      int64  \n",
            " 41  ind_reca_fin_ult1      int64  \n",
            " 42  ind_tjcr_fin_ult1      int64  \n",
            " 43  ind_valo_fin_ult1      int64  \n",
            " 44  ind_viv_fin_ult1       int64  \n",
            " 45  ind_nomina_ult1        float64\n",
            " 46  ind_nom_pens_ult1      float64\n",
            " 47  ind_recibo_ult1        int64  \n",
            "dtypes: float64(8), int64(23), object(17)\n",
            "memory usage: 4.9+ GB\n"
          ]
        }
      ]
    },
    {
      "cell_type": "markdown",
      "source": [
        "#  **Deleting null rows**\n"
      ],
      "metadata": {
        "id": "0nHuMh4TP0AV"
      }
    },
    {
      "cell_type": "code",
      "source": [
        "del_rows = train_df[train_df.ind_empleado.isnull()].index"
      ],
      "metadata": {
        "id": "Sc7pZBIGOY7W"
      },
      "execution_count": 15,
      "outputs": []
    },
    {
      "cell_type": "code",
      "source": [
        "train_df = train_df.drop(del_rows, axis = 0)"
      ],
      "metadata": {
        "id": "09FADgCHSi3K"
      },
      "execution_count": 16,
      "outputs": []
    },
    {
      "cell_type": "markdown",
      "source": [
        "#  **Cleaning data**"
      ],
      "metadata": {
        "id": "roAtohncS2mN"
      }
    },
    {
      "cell_type": "markdown",
      "source": [
        "Cleaning data for the column 'age'"
      ],
      "metadata": {
        "id": "_z4_vXqD35fi"
      }
    },
    {
      "cell_type": "code",
      "source": [
        "train_df['age'] = train_df['age'].astype(int) "
      ],
      "metadata": {
        "id": "qWggZdX2zkfB"
      },
      "execution_count": 17,
      "outputs": []
    },
    {
      "cell_type": "code",
      "source": [
        "main_column = ['age']"
      ],
      "metadata": {
        "id": "pInmrPoWzNJB"
      },
      "execution_count": 18,
      "outputs": []
    },
    {
      "cell_type": "code",
      "source": [
        "train_df[main_column].describe().apply(lambda s: s.apply('{0:.0f}'.format))"
      ],
      "metadata": {
        "id": "RBEwaQw4UXL_",
        "colab": {
          "base_uri": "https://localhost:8080/",
          "height": 300
        },
        "outputId": "6bae01b3-dc3a-4331-e288-2451a0399679"
      },
      "execution_count": 19,
      "outputs": [
        {
          "output_type": "execute_result",
          "data": {
            "text/plain": [
              "            age\n",
              "count  13619575\n",
              "mean         40\n",
              "std          17\n",
              "min           2\n",
              "25%          24\n",
              "50%          39\n",
              "75%          50\n",
              "max         164"
            ],
            "text/html": [
              "\n",
              "  <div id=\"df-8851e50d-682e-4821-bf75-37793ced24f6\">\n",
              "    <div class=\"colab-df-container\">\n",
              "      <div>\n",
              "<style scoped>\n",
              "    .dataframe tbody tr th:only-of-type {\n",
              "        vertical-align: middle;\n",
              "    }\n",
              "\n",
              "    .dataframe tbody tr th {\n",
              "        vertical-align: top;\n",
              "    }\n",
              "\n",
              "    .dataframe thead th {\n",
              "        text-align: right;\n",
              "    }\n",
              "</style>\n",
              "<table border=\"1\" class=\"dataframe\">\n",
              "  <thead>\n",
              "    <tr style=\"text-align: right;\">\n",
              "      <th></th>\n",
              "      <th>age</th>\n",
              "    </tr>\n",
              "  </thead>\n",
              "  <tbody>\n",
              "    <tr>\n",
              "      <th>count</th>\n",
              "      <td>13619575</td>\n",
              "    </tr>\n",
              "    <tr>\n",
              "      <th>mean</th>\n",
              "      <td>40</td>\n",
              "    </tr>\n",
              "    <tr>\n",
              "      <th>std</th>\n",
              "      <td>17</td>\n",
              "    </tr>\n",
              "    <tr>\n",
              "      <th>min</th>\n",
              "      <td>2</td>\n",
              "    </tr>\n",
              "    <tr>\n",
              "      <th>25%</th>\n",
              "      <td>24</td>\n",
              "    </tr>\n",
              "    <tr>\n",
              "      <th>50%</th>\n",
              "      <td>39</td>\n",
              "    </tr>\n",
              "    <tr>\n",
              "      <th>75%</th>\n",
              "      <td>50</td>\n",
              "    </tr>\n",
              "    <tr>\n",
              "      <th>max</th>\n",
              "      <td>164</td>\n",
              "    </tr>\n",
              "  </tbody>\n",
              "</table>\n",
              "</div>\n",
              "      <button class=\"colab-df-convert\" onclick=\"convertToInteractive('df-8851e50d-682e-4821-bf75-37793ced24f6')\"\n",
              "              title=\"Convert this dataframe to an interactive table.\"\n",
              "              style=\"display:none;\">\n",
              "        \n",
              "  <svg xmlns=\"http://www.w3.org/2000/svg\" height=\"24px\"viewBox=\"0 0 24 24\"\n",
              "       width=\"24px\">\n",
              "    <path d=\"M0 0h24v24H0V0z\" fill=\"none\"/>\n",
              "    <path d=\"M18.56 5.44l.94 2.06.94-2.06 2.06-.94-2.06-.94-.94-2.06-.94 2.06-2.06.94zm-11 1L8.5 8.5l.94-2.06 2.06-.94-2.06-.94L8.5 2.5l-.94 2.06-2.06.94zm10 10l.94 2.06.94-2.06 2.06-.94-2.06-.94-.94-2.06-.94 2.06-2.06.94z\"/><path d=\"M17.41 7.96l-1.37-1.37c-.4-.4-.92-.59-1.43-.59-.52 0-1.04.2-1.43.59L10.3 9.45l-7.72 7.72c-.78.78-.78 2.05 0 2.83L4 21.41c.39.39.9.59 1.41.59.51 0 1.02-.2 1.41-.59l7.78-7.78 2.81-2.81c.8-.78.8-2.07 0-2.86zM5.41 20L4 18.59l7.72-7.72 1.47 1.35L5.41 20z\"/>\n",
              "  </svg>\n",
              "      </button>\n",
              "      \n",
              "  <style>\n",
              "    .colab-df-container {\n",
              "      display:flex;\n",
              "      flex-wrap:wrap;\n",
              "      gap: 12px;\n",
              "    }\n",
              "\n",
              "    .colab-df-convert {\n",
              "      background-color: #E8F0FE;\n",
              "      border: none;\n",
              "      border-radius: 50%;\n",
              "      cursor: pointer;\n",
              "      display: none;\n",
              "      fill: #1967D2;\n",
              "      height: 32px;\n",
              "      padding: 0 0 0 0;\n",
              "      width: 32px;\n",
              "    }\n",
              "\n",
              "    .colab-df-convert:hover {\n",
              "      background-color: #E2EBFA;\n",
              "      box-shadow: 0px 1px 2px rgba(60, 64, 67, 0.3), 0px 1px 3px 1px rgba(60, 64, 67, 0.15);\n",
              "      fill: #174EA6;\n",
              "    }\n",
              "\n",
              "    [theme=dark] .colab-df-convert {\n",
              "      background-color: #3B4455;\n",
              "      fill: #D2E3FC;\n",
              "    }\n",
              "\n",
              "    [theme=dark] .colab-df-convert:hover {\n",
              "      background-color: #434B5C;\n",
              "      box-shadow: 0px 1px 3px 1px rgba(0, 0, 0, 0.15);\n",
              "      filter: drop-shadow(0px 1px 2px rgba(0, 0, 0, 0.3));\n",
              "      fill: #FFFFFF;\n",
              "    }\n",
              "  </style>\n",
              "\n",
              "      <script>\n",
              "        const buttonEl =\n",
              "          document.querySelector('#df-8851e50d-682e-4821-bf75-37793ced24f6 button.colab-df-convert');\n",
              "        buttonEl.style.display =\n",
              "          google.colab.kernel.accessAllowed ? 'block' : 'none';\n",
              "\n",
              "        async function convertToInteractive(key) {\n",
              "          const element = document.querySelector('#df-8851e50d-682e-4821-bf75-37793ced24f6');\n",
              "          const dataTable =\n",
              "            await google.colab.kernel.invokeFunction('convertToInteractive',\n",
              "                                                     [key], {});\n",
              "          if (!dataTable) return;\n",
              "\n",
              "          const docLinkHtml = 'Like what you see? Visit the ' +\n",
              "            '<a target=\"_blank\" href=https://colab.research.google.com/notebooks/data_table.ipynb>data table notebook</a>'\n",
              "            + ' to learn more about interactive tables.';\n",
              "          element.innerHTML = '';\n",
              "          dataTable['output_type'] = 'display_data';\n",
              "          await google.colab.output.renderOutput(dataTable, element);\n",
              "          const docLink = document.createElement('div');\n",
              "          docLink.innerHTML = docLinkHtml;\n",
              "          element.appendChild(docLink);\n",
              "        }\n",
              "      </script>\n",
              "    </div>\n",
              "  </div>\n",
              "  "
            ]
          },
          "metadata": {},
          "execution_count": 19
        }
      ]
    },
    {
      "cell_type": "code",
      "source": [
        "_, bp = train_df.age.plot.box(return_type='both')"
      ],
      "metadata": {
        "colab": {
          "base_uri": "https://localhost:8080/",
          "height": 265
        },
        "id": "Zv_U7tbzzf0i",
        "outputId": "f7477d00-8fb6-4839-8196-12616d7e8ffd"
      },
      "execution_count": 20,
      "outputs": [
        {
          "output_type": "display_data",
          "data": {
            "text/plain": [
              "<Figure size 432x288 with 1 Axes>"
            ],
            "image/png": "[encoded data removed]"
          },
          "metadata": {
            "needs_background": "light"
          }
        }
      ]
    },
    {
      "cell_type": "markdown",
      "source": [
        "The column for age has some incorrect values as there are a lot of outliers present. To overcome this outlier problem, it would be beneficial to remove them from the data set while taking into account that the values are not beneficial for further analysis. "
      ],
      "metadata": {
        "id": "aHXB0H8u1GP6"
      }
    },
    {
      "cell_type": "code",
      "source": [
        "train_df.drop(train_df[train_df['age'] >= 100].index, inplace = True)"
      ],
      "metadata": {
        "id": "oThYL_7k1bzA"
      },
      "execution_count": 21,
      "outputs": []
    },
    {
      "cell_type": "markdown",
      "source": [
        "This is the result after deleting the potential outliers."
      ],
      "metadata": {
        "id": "GM36Am4o2YaT"
      }
    },
    {
      "cell_type": "code",
      "source": [
        "_, bp = train_df.age.plot.box(return_type='both')"
      ],
      "metadata": {
        "colab": {
          "base_uri": "https://localhost:8080/",
          "height": 265
        },
        "id": "UXrIa_s52V7R",
        "outputId": "fcc77a2f-8508-48dc-961e-5318d2e2929c"
      },
      "execution_count": 22,
      "outputs": [
        {
          "output_type": "display_data",
          "data": {
            "text/plain": [
              "<Figure size 432x288 with 1 Axes>"
            ],
            "image/png": "[encoded data removed]"
          },
          "metadata": {
            "needs_background": "light"
          }
        }
      ]
    },
    {
      "cell_type": "markdown",
      "source": [
        "Cleaning data for the column 'antiguedad'"
      ],
      "metadata": {
        "id": "UevihP0Z4AwF"
      }
    },
    {
      "cell_type": "code",
      "source": [
        "train_df['antiguedad'] = train_df['antiguedad'].astype(int)"
      ],
      "metadata": {
        "id": "J3q6qVpm4F3N"
      },
      "execution_count": 23,
      "outputs": []
    },
    {
      "cell_type": "code",
      "source": [
        "main_column_2 = ['antiguedad']"
      ],
      "metadata": {
        "id": "fgKq8pVp4sG8"
      },
      "execution_count": 29,
      "outputs": []
    },
    {
      "cell_type": "code",
      "source": [
        "train_df[main_column_2].describe().apply(lambda s: s.apply('{0:.0f}'.format))"
      ],
      "metadata": {
        "id": "Los73SdB442v",
        "colab": {
          "base_uri": "https://localhost:8080/",
          "height": 300
        },
        "outputId": "05b29218-77e3-49f7-e569-fa004e03fad8"
      },
      "execution_count": 28,
      "outputs": [
        {
          "output_type": "execute_result",
          "data": {
            "text/plain": [
              "      antiguedad\n",
              "count   13603656\n",
              "mean          76\n",
              "std         1673\n",
              "min      -999999\n",
              "25%           23\n",
              "50%           50\n",
              "75%          135\n",
              "max          256"
            ],
            "text/html": [
              "\n",
              "  <div id=\"df-1afcc74c-eb66-4c3e-b68b-48e3ae51a733\">\n",
              "    <div class=\"colab-df-container\">\n",
              "      <div>\n",
              "<style scoped>\n",
              "    .dataframe tbody tr th:only-of-type {\n",
              "        vertical-align: middle;\n",
              "    }\n",
              "\n",
              "    .dataframe tbody tr th {\n",
              "        vertical-align: top;\n",
              "    }\n",
              "\n",
              "    .dataframe thead th {\n",
              "        text-align: right;\n",
              "    }\n",
              "</style>\n",
              "<table border=\"1\" class=\"dataframe\">\n",
              "  <thead>\n",
              "    <tr style=\"text-align: right;\">\n",
              "      <th></th>\n",
              "      <th>antiguedad</th>\n",
              "    </tr>\n",
              "  </thead>\n",
              "  <tbody>\n",
              "    <tr>\n",
              "      <th>count</th>\n",
              "      <td>13603656</td>\n",
              "    </tr>\n",
              "    <tr>\n",
              "      <th>mean</th>\n",
              "      <td>76</td>\n",
              "    </tr>\n",
              "    <tr>\n",
              "      <th>std</th>\n",
              "      <td>1673</td>\n",
              "    </tr>\n",
              "    <tr>\n",
              "      <th>min</th>\n",
              "      <td>-999999</td>\n",
              "    </tr>\n",
              "    <tr>\n",
              "      <th>25%</th>\n",
              "      <td>23</td>\n",
              "    </tr>\n",
              "    <tr>\n",
              "      <th>50%</th>\n",
              "      <td>50</td>\n",
              "    </tr>\n",
              "    <tr>\n",
              "      <th>75%</th>\n",
              "      <td>135</td>\n",
              "    </tr>\n",
              "    <tr>\n",
              "      <th>max</th>\n",
              "      <td>256</td>\n",
              "    </tr>\n",
              "  </tbody>\n",
              "</table>\n",
              "</div>\n",
              "      <button class=\"colab-df-convert\" onclick=\"convertToInteractive('df-1afcc74c-eb66-4c3e-b68b-48e3ae51a733')\"\n",
              "              title=\"Convert this dataframe to an interactive table.\"\n",
              "              style=\"display:none;\">\n",
              "        \n",
              "  <svg xmlns=\"http://www.w3.org/2000/svg\" height=\"24px\"viewBox=\"0 0 24 24\"\n",
              "       width=\"24px\">\n",
              "    <path d=\"M0 0h24v24H0V0z\" fill=\"none\"/>\n",
              "    <path d=\"M18.56 5.44l.94 2.06.94-2.06 2.06-.94-2.06-.94-.94-2.06-.94 2.06-2.06.94zm-11 1L8.5 8.5l.94-2.06 2.06-.94-2.06-.94L8.5 2.5l-.94 2.06-2.06.94zm10 10l.94 2.06.94-2.06 2.06-.94-2.06-.94-.94-2.06-.94 2.06-2.06.94z\"/><path d=\"M17.41 7.96l-1.37-1.37c-.4-.4-.92-.59-1.43-.59-.52 0-1.04.2-1.43.59L10.3 9.45l-7.72 7.72c-.78.78-.78 2.05 0 2.83L4 21.41c.39.39.9.59 1.41.59.51 0 1.02-.2 1.41-.59l7.78-7.78 2.81-2.81c.8-.78.8-2.07 0-2.86zM5.41 20L4 18.59l7.72-7.72 1.47 1.35L5.41 20z\"/>\n",
              "  </svg>\n",
              "      </button>\n",
              "      \n",
              "  <style>\n",
              "    .colab-df-container {\n",
              "      display:flex;\n",
              "      flex-wrap:wrap;\n",
              "      gap: 12px;\n",
              "    }\n",
              "\n",
              "    .colab-df-convert {\n",
              "      background-color: #E8F0FE;\n",
              "      border: none;\n",
              "      border-radius: 50%;\n",
              "      cursor: pointer;\n",
              "      display: none;\n",
              "      fill: #1967D2;\n",
              "      height: 32px;\n",
              "      padding: 0 0 0 0;\n",
              "      width: 32px;\n",
              "    }\n",
              "\n",
              "    .colab-df-convert:hover {\n",
              "      background-color: #E2EBFA;\n",
              "      box-shadow: 0px 1px 2px rgba(60, 64, 67, 0.3), 0px 1px 3px 1px rgba(60, 64, 67, 0.15);\n",
              "      fill: #174EA6;\n",
              "    }\n",
              "\n",
              "    [theme=dark] .colab-df-convert {\n",
              "      background-color: #3B4455;\n",
              "      fill: #D2E3FC;\n",
              "    }\n",
              "\n",
              "    [theme=dark] .colab-df-convert:hover {\n",
              "      background-color: #434B5C;\n",
              "      box-shadow: 0px 1px 3px 1px rgba(0, 0, 0, 0.15);\n",
              "      filter: drop-shadow(0px 1px 2px rgba(0, 0, 0, 0.3));\n",
              "      fill: #FFFFFF;\n",
              "    }\n",
              "  </style>\n",
              "\n",
              "      <script>\n",
              "        const buttonEl =\n",
              "          document.querySelector('#df-1afcc74c-eb66-4c3e-b68b-48e3ae51a733 button.colab-df-convert');\n",
              "        buttonEl.style.display =\n",
              "          google.colab.kernel.accessAllowed ? 'block' : 'none';\n",
              "\n",
              "        async function convertToInteractive(key) {\n",
              "          const element = document.querySelector('#df-1afcc74c-eb66-4c3e-b68b-48e3ae51a733');\n",
              "          const dataTable =\n",
              "            await google.colab.kernel.invokeFunction('convertToInteractive',\n",
              "                                                     [key], {});\n",
              "          if (!dataTable) return;\n",
              "\n",
              "          const docLinkHtml = 'Like what you see? Visit the ' +\n",
              "            '<a target=\"_blank\" href=https://colab.research.google.com/notebooks/data_table.ipynb>data table notebook</a>'\n",
              "            + ' to learn more about interactive tables.';\n",
              "          element.innerHTML = '';\n",
              "          dataTable['output_type'] = 'display_data';\n",
              "          await google.colab.output.renderOutput(dataTable, element);\n",
              "          const docLink = document.createElement('div');\n",
              "          docLink.innerHTML = docLinkHtml;\n",
              "          element.appendChild(docLink);\n",
              "        }\n",
              "      </script>\n",
              "    </div>\n",
              "  </div>\n",
              "  "
            ]
          },
          "metadata": {},
          "execution_count": 28
        }
      ]
    },
    {
      "cell_type": "code",
      "source": [
        "_, bp = train_df.antiguedad.plot.box(return_type='both')"
      ],
      "metadata": {
        "colab": {
          "base_uri": "https://localhost:8080/",
          "height": 276
        },
        "id": "PSO-WwbJFRgO",
        "outputId": "bc037949-1335-4919-892a-ab84d2f7e34e"
      },
      "execution_count": 27,
      "outputs": [
        {
          "output_type": "display_data",
          "data": {
            "text/plain": [
              "<Figure size 432x288 with 1 Axes>"
            ],
            "image/png": "[encoded data removed]"
          },
          "metadata": {
            "needs_background": "light"
          }
        }
      ]
    }
  ]
}